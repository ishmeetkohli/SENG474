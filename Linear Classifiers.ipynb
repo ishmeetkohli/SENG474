{
 "cells": [
  {
   "cell_type": "code",
   "execution_count": 7,
   "metadata": {
    "collapsed": true
   },
   "outputs": [],
   "source": [
    "%matplotlib inline\n",
    "import numpy as np\n",
    "\n",
    "from sklearn.linear_model import LinearRegression\n",
    "from sklearn.linear_model import Perceptron\n",
    "from sklearn.model_selection import train_test_split\n",
    "\n",
    "from sklearn import datasets\n",
    "from sklearn.metrics import accuracy_score, mean_squared_error\n",
    "\n",
    "import matplotlib.pyplot as plt"
   ]
  },
  {
   "cell_type": "markdown",
   "metadata": {},
   "source": [
    "#### Ordinary Least Squares\n",
    "Attempts to “draw” a line with the smallest sum of the squares of all errors.(in this following case, the distance from a point to the line)<br>\n",
    "\n",
    "• This is a regression model not a classifier.\n",
    "<br>• It creates a line of best fit for predicting/creating data – not classifying data"
   ]
  },
  {
   "cell_type": "code",
   "execution_count": 4,
   "metadata": {},
   "outputs": [
    {
     "data": {
      "text/plain": [
       "<matplotlib.collections.PathCollection at 0x11a9e49b0>"
      ]
     },
     "execution_count": 4,
     "metadata": {},
     "output_type": "execute_result"
    },
    {
     "data": {
      "image/png": "[encoded data removed]",
      "text/plain": [
       "<matplotlib.figure.Figure at 0x11a858470>"
      ]
     },
     "metadata": {},
     "output_type": "display_data"
    }
   ],
   "source": [
    "diabetes = datasets.load_diabetes()\n",
    "\n",
    "# Using only one feature to visualize in 2D\n",
    "\n",
    "# bmi\n",
    "X = diabetes.data[:, np.newaxis, 2]\n",
    "# quantitative measure of disease progression\n",
    "y = diabetes.target\n",
    "\n",
    "X_train , X_test, y_train , y_test = train_test_split(X,y,test_size=0.1)\n",
    "plt.scatter(X_test, y_test,  color='black')"
   ]
  },
  {
   "cell_type": "code",
   "execution_count": 8,
   "metadata": {},
   "outputs": [
    {
     "name": "stdout",
     "output_type": "stream",
     "text": [
      "Coefficients :  [ 915.92682363]\n",
      "Intercept :  153.867624487\n",
      "Mean squared error :  3128.84114082\n"
     ]
    },
    {
     "data": {
      "text/plain": [
       "[<matplotlib.lines.Line2D at 0x11aac4400>]"
      ]
     },
     "execution_count": 8,
     "metadata": {},
     "output_type": "execute_result"
    },
    {
     "data": {
      "image/png": "[encoded data removed]",
      "text/plain": [
       "<matplotlib.figure.Figure at 0x11a9f2160>"
      ]
     },
     "metadata": {},
     "output_type": "display_data"
    }
   ],
   "source": [
    "model = LinearRegression()\n",
    "model = model.fit(X_train, y_train)\n",
    "slope = model.coef_[0]\n",
    "intercept = model.intercept_\n",
    "print(\"Coefficients : \",model.coef_)\n",
    "print(\"Intercept : \", model.intercept_)\n",
    "\n",
    "y_pred = model.predict(X_test)\n",
    "print(\"Mean squared error : \", mean_squared_error(y_test, y_pred))\n",
    "\n",
    "# x_ = np.linspace(-.2, .2, 100)\n",
    "# y_ = slope*x_ + intercept\n",
    "\n",
    "plt.scatter(X_test, y_test,  color='black')\n",
    "plt.plot(X_test, y_pred, color='blue', linewidth=3)\n",
    "# plt.plot(x_, y_, color='green')"
   ]
  },
  {
   "cell_type": "markdown",
   "metadata": {},
   "source": [
    "#### Perceptrons\n",
    "- Are the beginning of Neural Networks (ANNs are simple multi-layered Perceptrons)\n",
    "- Uses input and output nodes\n",
    "- Input nodes are connected to output nodes via weighted links (Thresholds)\n",
    "- Calculates output value by computing the weighted sum of its input values\n",
    "- Used to classify data that is linearly seperable\n",
    "    - w1\\*x1 + w2\\*x2 + b = 0\n",
    "\n",
    "![perceptron](perceptron.png)"
   ]
  },
  {
   "cell_type": "code",
   "execution_count": 10,
   "metadata": {},
   "outputs": [
    {
     "name": "stdout",
     "output_type": "stream",
     "text": [
      "Coefficients: [[ 3.  3.  2.]]\n",
      "Intercept: [-4.]\n",
      "\n",
      "Prediction: [-1]\n"
     ]
    }
   ],
   "source": [
    "data = [[0, 0, 0], \n",
    "        [0, 0, 1], \n",
    "        [0, 1, 0], \n",
    "        [0, 1, 1], \n",
    "        [1, 0, 1], \n",
    "        [1, 1, 0],\n",
    "        [1, 1, 1]]\n",
    "\n",
    "# -1 if str has 2 or more 0s, +1 if has 2 or more 1s\n",
    "labels = [-1, -1, -1, 1, 1, 1, 1]\n",
    "\n",
    "clf = Perceptron(n_iter = 100)\n",
    "clf = clf.fit(data, labels)\n",
    "\n",
    "print(\"Coefficients:\", clf.coef_)\n",
    "print(\"Intercept:\", clf.intercept_)\n",
    "\n",
    "test = [[1, 0, 0]]\n",
    "\n",
    "print()\n",
    "print(\"Prediction:\", clf.predict(test))\n",
    "\n"
   ]
  },
  {
   "cell_type": "markdown",
   "metadata": {},
   "source": [
    "#### Comparison of various Classifiers with iris dataset."
   ]
  },
  {
   "cell_type": "code",
   "execution_count": 11,
   "metadata": {
    "collapsed": true
   },
   "outputs": [],
   "source": [
    "from sklearn.naive_bayes import GaussianNB, MultinomialNB, BernoulliNB\n",
    "from sklearn.tree import DecisionTreeClassifier\n",
    "from sklearn.linear_model import LogisticRegression"
   ]
  },
  {
   "cell_type": "code",
   "execution_count": 12,
   "metadata": {},
   "outputs": [
    {
     "name": "stdout",
     "output_type": "stream",
     "text": [
      "GaussianNB 0.95\n",
      "DecisionTreeClassifier 0.966666666667\n",
      "MultinomialNB 0.9\n",
      "BernoulliNB 0.216666666667\n",
      "Perceptron 0.616666666667\n",
      "LogisticRegression 0.933333333333\n"
     ]
    }
   ],
   "source": [
    "iris = datasets.load_iris()\n",
    "\n",
    "data_train, data_test, labels_train, labels_test = train_test_split(\n",
    "    iris.data, iris.target, test_size=0.4)\n",
    "\n",
    "algs = [\n",
    "    GaussianNB(), \n",
    "    DecisionTreeClassifier(),\n",
    "    MultinomialNB(),\n",
    "    BernoulliNB(), \n",
    "    Perceptron(), \n",
    "    LogisticRegression(), \n",
    "]\n",
    "\n",
    "# Run through each classifier, train them with the training dataset, then test it using the score function\n",
    "for alg in algs:\n",
    "    alg = alg.fit(data_train, labels_train)\n",
    "    print(type(alg).__name__, alg.score(data_test, labels_test))"
   ]
  },
  {
   "cell_type": "code",
   "execution_count": null,
   "metadata": {
    "collapsed": true
   },
   "outputs": [],
   "source": []
  }
 ],
 "metadata": {
  "kernelspec": {
   "display_name": "Python 3",
   "language": "python",
   "name": "python3"
  },
  "language_info": {
   "codemirror_mode": {
    "name": "ipython",
    "version": 3
   },
   "file_extension": ".py",
   "mimetype": "text/x-python",
   "name": "python",
   "nbconvert_exporter": "python",
   "pygments_lexer": "ipython3",
   "version": "3.6.1"
  }
 },
 "nbformat": 4,
 "nbformat_minor": 2
}
