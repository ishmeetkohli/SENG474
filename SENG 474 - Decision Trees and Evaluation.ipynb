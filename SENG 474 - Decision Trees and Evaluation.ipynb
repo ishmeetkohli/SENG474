{
 "cells": [
  {
   "cell_type": "markdown",
   "metadata": {},
   "source": [
    "# SENG 474 - Decision Trees and Evaluation"
   ]
  },
  {
   "cell_type": "markdown",
   "metadata": {},
   "source": [
    "### Import required modules"
   ]
  },
  {
   "cell_type": "code",
   "execution_count": 1,
   "metadata": {
    "collapsed": true,
    "scrolled": true
   },
   "outputs": [],
   "source": [
    "%matplotlib inline\n",
    "import numpy as np\n",
    "import matplotlib.pyplot as plt\n",
    "\n",
    "from sklearn.tree import DecisionTreeClassifier\n",
    "from sklearn.externals.six import StringIO\n",
    "import pydotplus as pydot\n",
    "\n",
    "from intrusion_detection import *\n",
    "\n",
    "%load_ext autoreload \n",
    "%autoreload 2"
   ]
  },
  {
   "cell_type": "markdown",
   "metadata": {},
   "source": [
    "### Loading Data\n",
    "Uses the parsing features from intrusion_detection.py (now written for Python 3)\n",
    "\n",
    "* **`X`**: stores the feature vectors\n",
    "* **`y`**: stores the ground truth data"
   ]
  },
  {
   "cell_type": "code",
   "execution_count": 2,
   "metadata": {},
   "outputs": [
    {
     "name": "stdout",
     "output_type": "stream",
     "text": [
      "Loading data...\n",
      "Loaded 494021 rows.\n",
      "Protocols: dict_keys(['tcp', 'udp', 'icmp'])\n",
      "Services: dict_keys(['http', 'domain', 'netbios_ssn', 'urp_i', 'Z39_50', 'smtp', 'gopher', 'private', 'echo', 'printer', 'red_i', 'eco_i', 'sunrpc', 'ftp_data', 'urh_i', 'pm_dump', 'pop_3', 'pop_2', 'systat', 'ftp', 'uucp', 'whois', 'netbios_dgm', 'efs', 'remote_job', 'sql_net', 'daytime', 'ntp_u', 'finger', 'ldap', 'netbios_ns', 'kshell', 'iso_tsap', 'ecr_i', 'nntp', 'shell', 'domain_u', 'uucp_path', 'courier', 'exec', 'tim_i', 'netstat', 'telnet', 'rje', 'hostnames', 'link', 'auth', 'http_443', 'csnet_ns', 'X11', 'IRC', 'tftp_u', 'imap4', 'supdup', 'name', 'nnsp', 'mtp', 'bgp', 'ctf', 'klogin', 'vmnet', 'time', 'discard', 'login', 'other', 'ssh'])\n",
      "Flags: dict_keys(['SF', 'OTH', 'RSTR', 'S3', 'S2', 'S1', 'S0', 'RSTOS0', 'REJ', 'SH', 'RSTO'])\n",
      "Formatting data for decision tree...\n",
      "Formatted 494021 rows.\n",
      "Formatting training data for decision tree...\n",
      "Formatted 494021 rows.\n"
     ]
    }
   ],
   "source": [
    "parser = DataParser()\n",
    "X = np.array(parser.formatted_data)\n",
    "y = np.array(parser.formatted_training_data)"
   ]
  },
  {
   "cell_type": "markdown",
   "metadata": {},
   "source": [
    "## Part 1 - Train and Visualize Decision Tree Classifier with IDS Data"
   ]
  },
  {
   "cell_type": "markdown",
   "metadata": {},
   "source": [
    "### Create a new Decision Tree Classifier and train it"
   ]
  },
  {
   "cell_type": "code",
   "execution_count": 9,
   "metadata": {},
   "outputs": [
    {
     "name": "stdout",
     "output_type": "stream",
     "text": [
      "Training Decision Tree...\n",
      "Trained Successfully\n"
     ]
    }
   ],
   "source": [
    "## Enter Code Here for Training a Decision Tree Classifier\n",
    "clf = DecisionTreeClassifier(criterion=\"entropy\")\n",
    "\n",
    "print(\"Training Decision Tree...\")\n",
    "clf.fit(X,y)\n",
    "print(\"Trained Successfully\")"
   ]
  },
  {
   "cell_type": "code",
   "execution_count": 10,
   "metadata": {
    "collapsed": true
   },
   "outputs": [],
   "source": [
    "t = clf.tree_"
   ]
  },
  {
   "cell_type": "code",
   "execution_count": 11,
   "metadata": {},
   "outputs": [
    {
     "data": {
      "text/plain": [
       "array([  1.55762304e+00,   1.33790538e+00,   1.59605608e-01,\n",
       "         2.36900721e-02,   6.62028384e-01,   1.24067053e+00,\n",
       "         5.43564443e-01,   9.18295834e-01,   0.00000000e+00,\n",
       "         0.00000000e+00,   0.00000000e+00,   0.00000000e+00,\n",
       "         1.49402566e-01,   5.03176129e-02,   0.00000000e+00,\n",
       "         0.00000000e+00,   1.00000000e+00,   0.00000000e+00,\n",
       "         0.00000000e+00,   2.93859431e-03,   7.90332533e-04,\n",
       "         0.00000000e+00,   6.11141734e-01,   0.00000000e+00,\n",
       "         9.70950594e-01,   0.00000000e+00,   0.00000000e+00,\n",
       "         1.33157962e+00,   1.06127812e+00,   1.00000000e+00,\n",
       "         0.00000000e+00,   0.00000000e+00,   0.00000000e+00,\n",
       "         0.00000000e+00,   1.04655168e+00,   3.66883061e-01,\n",
       "         1.37536150e+00,   6.81935320e-01,   0.00000000e+00,\n",
       "         0.00000000e+00,   0.00000000e+00,   0.00000000e+00,\n",
       "         6.60301440e-01,   0.00000000e+00,   1.43726170e-01,\n",
       "         0.00000000e+00,   0.00000000e+00,   6.47862067e-01,\n",
       "         1.95532702e+00,   1.25510532e+00,   3.79270497e-01,\n",
       "         2.16703997e+00,   1.62226350e+00,   1.62043829e+00,\n",
       "         1.39232999e-01,   0.00000000e+00,   0.00000000e+00,\n",
       "         1.62485067e+00,   2.76195428e-01,   0.00000000e+00,\n",
       "         0.00000000e+00,   1.38443150e+00,   0.00000000e+00,\n",
       "         9.70950594e-01,   0.00000000e+00,   0.00000000e+00,\n",
       "         4.54821208e-01,   0.00000000e+00,   1.52192809e+00,\n",
       "         9.18295834e-01,   0.00000000e+00,   0.00000000e+00,\n",
       "         0.00000000e+00,   8.61472513e-01,   5.43564443e-01,\n",
       "         0.00000000e+00,   0.00000000e+00,   0.00000000e+00,\n",
       "         1.65739914e-01,   6.99762919e-02,   2.18488500e-02,\n",
       "         0.00000000e+00,   1.33614378e-01,   2.79557126e-02,\n",
       "         0.00000000e+00,   9.18295834e-01,   0.00000000e+00,\n",
       "         0.00000000e+00,   1.13588858e+00,   2.58018669e-01,\n",
       "         0.00000000e+00,   0.00000000e+00,   1.39214722e+00,\n",
       "         0.00000000e+00,   7.21928095e-01,   0.00000000e+00,\n",
       "         0.00000000e+00,   2.02092632e+00,   1.76409766e+00,\n",
       "         1.00000000e+00,   5.91672779e-01,   0.00000000e+00,\n",
       "         0.00000000e+00,   0.00000000e+00,   8.11278124e-01,\n",
       "         0.00000000e+00,   0.00000000e+00,   3.22756959e-01,\n",
       "         0.00000000e+00,   0.00000000e+00,   1.65325373e+00,\n",
       "         1.85160726e+00,   1.42841247e+00,   0.00000000e+00,\n",
       "         9.45660305e-01,   0.00000000e+00,   0.00000000e+00,\n",
       "         3.71232327e-01,   0.00000000e+00,   0.00000000e+00,\n",
       "         1.62326180e-01,   0.00000000e+00,   0.00000000e+00,\n",
       "         1.49345842e+00,   5.69874953e-01,   6.37588350e-01,\n",
       "         2.62959847e-01,   7.00120505e-02,   5.03258335e-01,\n",
       "         0.00000000e+00,   0.00000000e+00,   0.00000000e+00,\n",
       "         9.45660305e-01,   0.00000000e+00,   0.00000000e+00,\n",
       "         0.00000000e+00,   0.00000000e+00,   4.60762865e-01,\n",
       "         3.68115005e-01,   0.00000000e+00,   0.00000000e+00,\n",
       "         0.00000000e+00,   1.58215725e+00,   7.71428495e-01,\n",
       "         1.08271352e+00,   1.65427034e-01,   0.00000000e+00,\n",
       "         0.00000000e+00,   0.00000000e+00,   0.00000000e+00,\n",
       "         4.41069532e-01,   1.15138878e+00,   3.45655786e-01,\n",
       "         1.14883485e+00,   0.00000000e+00,   6.50022422e-01,\n",
       "         1.00000000e+00,   0.00000000e+00,   0.00000000e+00,\n",
       "         2.55081110e-01,   0.00000000e+00,   9.18295834e-01,\n",
       "         0.00000000e+00,   0.00000000e+00,   0.00000000e+00,\n",
       "         3.26396552e-01,   1.34740754e-01,   7.78004856e-01,\n",
       "         1.47499149e+00,   1.11229896e+00,   3.79848978e-01,\n",
       "         2.22264295e-01,   1.22439445e+00,   5.91672779e-01,\n",
       "         0.00000000e+00,   0.00000000e+00,   0.00000000e+00,\n",
       "         9.69324313e-02,   8.65856617e-01,   1.00000000e+00,\n",
       "         0.00000000e+00,   0.00000000e+00,   0.00000000e+00,\n",
       "         0.00000000e+00,   9.91076060e-01,   0.00000000e+00,\n",
       "         6.50022422e-01,   8.11278124e-01,   0.00000000e+00,\n",
       "         1.00000000e+00,   0.00000000e+00,   0.00000000e+00,\n",
       "         6.61057608e-01,   4.91237342e-01,   0.00000000e+00,\n",
       "         9.70950594e-01,   0.00000000e+00,   5.91672779e-01,\n",
       "         0.00000000e+00,   0.00000000e+00,   2.17849231e-01,\n",
       "         1.22455243e-01,   3.45117315e-01,   1.11909909e-01,\n",
       "         1.00000000e+00,   0.00000000e+00,   0.00000000e+00,\n",
       "         0.00000000e+00,   9.58711883e-01,   0.00000000e+00,\n",
       "         0.00000000e+00,   0.00000000e+00,   4.68995594e-01,\n",
       "         1.00000000e+00,   0.00000000e+00,   0.00000000e+00,\n",
       "         0.00000000e+00,   3.98831850e-01,   2.09829557e-01,\n",
       "         1.32874733e-01,   9.84661153e-02,   5.16392641e-02,\n",
       "         1.30014105e-02,   3.50189496e-02,   9.91076060e-01,\n",
       "         0.00000000e+00,   0.00000000e+00,   8.12891769e-03,\n",
       "         0.00000000e+00,   0.00000000e+00,   0.00000000e+00,\n",
       "         2.30165734e-01,   0.00000000e+00,   1.01543128e+00,\n",
       "         0.00000000e+00,   9.18295834e-01,   0.00000000e+00,\n",
       "         0.00000000e+00,   1.47885957e-01,   4.05195516e-01,\n",
       "         6.11008659e-02,   0.00000000e+00,   3.06424730e-01,\n",
       "         0.00000000e+00,   0.00000000e+00,   0.00000000e+00,\n",
       "         4.49003591e-02,   0.00000000e+00,   7.49595257e-01,\n",
       "         4.13816850e-01,   0.00000000e+00,   0.00000000e+00,\n",
       "         0.00000000e+00,   1.04324841e+00,   0.00000000e+00,\n",
       "         2.00622324e-01,   0.00000000e+00,   0.00000000e+00,\n",
       "         0.00000000e+00,   2.08180946e-01,   0.00000000e+00,\n",
       "         0.00000000e+00,   5.70218920e-03,   1.98612447e-03,\n",
       "         4.60123654e-04,   2.30064700e-04,   0.00000000e+00,\n",
       "         2.89704773e-02,   8.11278124e-01,   0.00000000e+00,\n",
       "         0.00000000e+00,   0.00000000e+00,   0.00000000e+00,\n",
       "         4.42958679e-01,   7.21928095e-01,   0.00000000e+00,\n",
       "         0.00000000e+00,   0.00000000e+00,   5.05712081e-02,\n",
       "         0.00000000e+00,   5.88551896e-01,   2.05136179e+00,\n",
       "         1.02242070e+00,   9.18295834e-01,   0.00000000e+00,\n",
       "         0.00000000e+00,   5.91672779e-01,   0.00000000e+00,\n",
       "         1.00000000e+00,   0.00000000e+00,   0.00000000e+00,\n",
       "         1.79248125e+00,   1.00000000e+00,   0.00000000e+00,\n",
       "         0.00000000e+00,   8.11278124e-01,   0.00000000e+00,\n",
       "         0.00000000e+00,   3.08993074e-01,   1.71596085e-01,\n",
       "         7.25371830e-02,   0.00000000e+00,   6.84038436e-01,\n",
       "         0.00000000e+00,   0.00000000e+00,   0.00000000e+00,\n",
       "         1.52192809e+00,   9.18295834e-01,   0.00000000e+00,\n",
       "         0.00000000e+00,   0.00000000e+00,   1.35025369e+00,\n",
       "         1.47491764e+00,   1.11591654e+00,   5.68722199e-01,\n",
       "         1.99795597e-01,   1.37878349e+00,   0.00000000e+00,\n",
       "         9.18295834e-01,   0.00000000e+00,   0.00000000e+00,\n",
       "         7.48485523e-02,   6.90695056e-01,   8.11278124e-01,\n",
       "         0.00000000e+00,   0.00000000e+00,   0.00000000e+00,\n",
       "         0.00000000e+00,   2.21368744e+00,   1.30617065e+00,\n",
       "         1.37878349e+00,   0.00000000e+00,   7.21928095e-01,\n",
       "         0.00000000e+00,   0.00000000e+00,   3.37290067e-01,\n",
       "         0.00000000e+00,   0.00000000e+00,   1.36300831e+00,\n",
       "         6.99842840e-01,   1.00000000e+00,   0.00000000e+00,\n",
       "         0.00000000e+00,   0.00000000e+00,   0.00000000e+00,\n",
       "         1.30790715e+00,   1.35036203e-01,   0.00000000e+00,\n",
       "         0.00000000e+00,   7.75512658e-01,   0.00000000e+00,\n",
       "         0.00000000e+00,   4.45468552e-01,   0.00000000e+00,\n",
       "         0.00000000e+00,   1.58791384e-01,   0.00000000e+00,\n",
       "         0.00000000e+00,   1.13414174e-03,   0.00000000e+00,\n",
       "         0.00000000e+00])"
      ]
     },
     "execution_count": 11,
     "metadata": {},
     "output_type": "execute_result"
    }
   ],
   "source": [
    "t.impurity"
   ]
  },
  {
   "cell_type": "markdown",
   "metadata": {},
   "source": [
    "### Create Graph Visualization of Tree\n",
    "Once you've trained the tree successfully, run the code below and open IDS_Tree_Graph.pdf to view the resulting Decision Tree"
   ]
  },
  {
   "cell_type": "code",
   "execution_count": null,
   "metadata": {
    "collapsed": true
   },
   "outputs": [],
   "source": [
    "dot_data = StringIO()\n",
    "tree.export_graphviz(clf, \n",
    "    out_file=dot_data, \n",
    "    feature_names=list(DataFormatting.Mappings.features.keys())[:-1], \n",
    "    class_names=list(DataFormatting.Mappings.categories.keys()), \n",
    "    filled=True, \n",
    "    rounded=True, \n",
    "    special_characters=True\n",
    "    )\n",
    "\n",
    "graph = pydot.graph_from_dot_data(dot_data.getvalue())\n",
    "graph.write_pdf('IDS_Tree_Graph.pdf')\n",
    "\n",
    "print ('Done. Saved as IDS_Tree_Graph.pdf')\n",
    "print ('NOTE: Remember that we had to substitute integers for labels, so this graph may be hard to read.')"
   ]
  },
  {
   "cell_type": "markdown",
   "metadata": {},
   "source": [
    "## Part 2 - Evaluation of the model"
   ]
  },
  {
   "cell_type": "code",
   "execution_count": null,
   "metadata": {
    "collapsed": true
   },
   "outputs": [],
   "source": [
    "from sklearn.model_selection import train_test_split, cross_val_score\n",
    "from sklearn.metrics import confusion_matrix, precision_recall_fscore_support"
   ]
  },
  {
   "cell_type": "markdown",
   "metadata": {},
   "source": [
    "### Splitting the Data\n",
    "To evaluate a model the data the classifier is trained with should be seperate from the data we evaluate on"
   ]
  },
  {
   "cell_type": "code",
   "execution_count": null,
   "metadata": {
    "collapsed": true
   },
   "outputs": [],
   "source": [
    "# One method is to split into 1 training dateset and 1 testing dataset\n",
    "X_train, X_test, y_train, y_test = train_test_split(X, y, test_size=.4)\n",
    "\n",
    "print (X_train.shape, y_train.shape)\n",
    "print (X_test.shape, y_test.shape)"
   ]
  },
  {
   "cell_type": "code",
   "execution_count": null,
   "metadata": {
    "collapsed": true
   },
   "outputs": [],
   "source": [
    "# Add Code to now train the classifier"
   ]
  },
  {
   "cell_type": "code",
   "execution_count": null,
   "metadata": {
    "collapsed": true
   },
   "outputs": [],
   "source": [
    "# Add code to check the accuracy of the model"
   ]
  },
  {
   "cell_type": "markdown",
   "metadata": {},
   "source": [
    "### K-Folds Cross Validation\n",
    "A better way to evaluate"
   ]
  },
  {
   "cell_type": "code",
   "execution_count": null,
   "metadata": {
    "collapsed": true
   },
   "outputs": [],
   "source": [
    "# Add Code for Cross Validation Here"
   ]
  },
  {
   "cell_type": "markdown",
   "metadata": {},
   "source": [
    "### Confusion Matrices\n",
    "Get a better understanding of the errors"
   ]
  },
  {
   "cell_type": "code",
   "execution_count": null,
   "metadata": {
    "collapsed": true
   },
   "outputs": [],
   "source": [
    "# Add Code to create a Confusion Matrix with variable name cm "
   ]
  },
  {
   "cell_type": "code",
   "execution_count": null,
   "metadata": {
    "collapsed": true,
    "scrolled": true
   },
   "outputs": [],
   "source": [
    "# Now print the new confusion matrix\n",
    "# Added for better print formating\n",
    "from IPython.core.display import display, HTML\n",
    "display(HTML(\"<style>.container { width:100% !important; }</style>\"))\n",
    "\n",
    "for row in cm:\n",
    "    for element in row:\n",
    "        n = \"%i\" % element\n",
    "        offset = 7 - len(n)\n",
    "        n += \" \" * offset\n",
    "        print(n, end=\"\")\n",
    "    print()"
   ]
  },
  {
   "cell_type": "markdown",
   "metadata": {},
   "source": [
    "### Load a smaller dataset for easier viewing"
   ]
  },
  {
   "cell_type": "code",
   "execution_count": null,
   "metadata": {
    "collapsed": true
   },
   "outputs": [],
   "source": [
    "from sklearn import datasets\n",
    "\n",
    "test_data = datasets.load_wine()\n",
    "Xi = test_data.data\n",
    "yi = test_data.target"
   ]
  },
  {
   "cell_type": "code",
   "execution_count": null,
   "metadata": {
    "collapsed": true
   },
   "outputs": [],
   "source": [
    "Xi_train, Xi_test, yi_train, yi_test = train_test_split(Xi, yi, test_size=.6)\n",
    "\n",
    "clfi = DecisionTreeClassifier()\n",
    "clfi.fit(Xi_train, yi_train)\n",
    "\n",
    "yi_pred = clfi.predict(Xi_test)\n",
    "cmi = confusion_matrix(yi_test, yi_pred)\n",
    "\n",
    "print(cmi)\n",
    "\n",
    "fig, ax = plt.subplots()\n",
    "plt.imshow(cmi, cmap=\"Blues\")\n",
    "plt.colorbar()\n",
    "ax.tick_params(labelbottom='off', labelleft='off')\n",
    "plt.show()"
   ]
  },
  {
   "cell_type": "markdown",
   "metadata": {},
   "source": [
    "### Precision and Recall Metrics\n",
    "\n",
    "* precision:  When a label is predicted, how often is it correct?\n",
    "    * precision = tp / (tp + fp)\n",
    "    \n",
    "    \n",
    "* recall: When a sample is actually a given label, how often is is predicted correct?  \n",
    "    * recall =  tp / (tp + fn)"
   ]
  },
  {
   "cell_type": "code",
   "execution_count": null,
   "metadata": {
    "collapsed": true
   },
   "outputs": [],
   "source": [
    "# Add code to calculate and print precision and recall for the iris dataset\n",
    "# (note: use Sklearn libraries helper functions...)"
   ]
  }
 ],
 "metadata": {
  "kernelspec": {
   "display_name": "Python 3",
   "language": "python",
   "name": "python3"
  },
  "language_info": {
   "codemirror_mode": {
    "name": "ipython",
    "version": 3
   },
   "file_extension": ".py",
   "mimetype": "text/x-python",
   "name": "python",
   "nbconvert_exporter": "python",
   "pygments_lexer": "ipython3",
   "version": "3.6.1"
  }
 },
 "nbformat": 4,
 "nbformat_minor": 2
}
