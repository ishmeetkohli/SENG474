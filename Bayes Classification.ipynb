{
 "cells": [
  {
   "cell_type": "markdown",
   "metadata": {},
   "source": [
    "## Baysian Classification and Naive Bayes for genre classification using lyrics \n",
    "\n",
    "In this notebook we look at the problem of classifying songs to three genres (rap, rock and country) based on a simple binary bag of words representation. First we load the data and then we take a look at it. Using our implementation of discrete random variables we generate new random songs. Finally we show how classification can be performed using Bayes Rule. The data comes for the lyrics of songs from the Million Song DataSet and was created for an assignment in my course on MIR. \n",
    "\n",
    "The data layout and the way the classifier is implemented is not general and not optimal but done for pedagogical purposes. \n"
   ]
  },
  {
   "cell_type": "code",
   "execution_count": 2,
   "metadata": {},
   "outputs": [
    {
     "name": "stdout",
     "output_type": "stream",
     "text": [
      "(1000, 30) (1000, 30) (1000, 30)\n"
     ]
    },
    {
     "data": {
      "text/plain": [
       "<matplotlib.image.AxesImage at 0x1080a7ac8>"
      ]
     },
     "execution_count": 2,
     "metadata": {},
     "output_type": "execute_result"
    },
    {
     "data": {
      "image/png": "[encoded data removed]",
      "text/plain": [
       "<matplotlib.figure.Figure at 0x1068bf0b8>"
      ]
     },
     "metadata": {},
     "output_type": "display_data"
    }
   ],
   "source": [
    "%matplotlib inline \n",
    "import matplotlib.pyplot as plt\n",
    "import pickle \n",
    "import numpy as np\n",
    "\n",
    "\n",
    "# load some lyrics bag of words data, binarize, separate matrix rows by genre \n",
    "data = np.load('data.npz')\n",
    "a = data['arr_0']\n",
    "a[a > 0] = 1\n",
    "labels = np.load('labels.npz')\n",
    "labels = labels['arr_0']\n",
    "dictionary = pickle.load(open('dictionary.pck','rb'), encoding='latin1')\n",
    "word_indices = [  41, 1465,  169,  217, 1036,  188,  260,  454,  173,  728,  163,\n",
    "        151,  107,  142,   90,  141,  161,  131,   86,   73,  165,  133,\n",
    "         84,  244,  153,  126,  137,  119,   80,  224]\n",
    "words = [dictionary[r] for r in word_indices]\n",
    "\n",
    "# binary row vectors separate by genre \n",
    "ra_rows = a[0:1000,:]\n",
    "ro_rows = a[1000:2000,:]\n",
    "co_rows = a[2000:3000,:] \n",
    "print(ra_rows.shape, ro_rows.shape, co_rows.shape)\n",
    "\n",
    "\n",
    "plt.imshow(a, aspect='auto', cmap='gray')\n"
   ]
  },
  {
   "cell_type": "markdown",
   "metadata": {},
   "source": [
    "Let's calculate the word probability vector for each genre and then look at the most probable words for each genre in our data as well as how particular songs are represented as bag of words "
   ]
  },
  {
   "cell_type": "code",
   "execution_count": 5,
   "metadata": {},
   "outputs": [
    {
     "data": {
      "text/plain": [
       "['de',\n",
       " 'niggaz',\n",
       " 'ya',\n",
       " 'und',\n",
       " 'yall',\n",
       " 'ich',\n",
       " 'fuck',\n",
       " 'shit',\n",
       " 'yo',\n",
       " 'bitch',\n",
       " 'end',\n",
       " 'wait',\n",
       " 'again',\n",
       " 'light',\n",
       " 'eye',\n",
       " 'noth',\n",
       " 'lie',\n",
       " 'fall',\n",
       " 'our',\n",
       " 'away',\n",
       " 'gone',\n",
       " 'good',\n",
       " 'night',\n",
       " 'blue',\n",
       " 'home',\n",
       " 'long',\n",
       " 'littl',\n",
       " 'well',\n",
       " 'heart',\n",
       " 'old']"
      ]
     },
     "execution_count": 5,
     "metadata": {},
     "output_type": "execute_result"
    }
   ],
   "source": [
    "# calculate word counts for each genre \n",
    "word_probs_ra = (ra_rows.sum(axis=0).astype(float) + 1.0) / 1001.\n",
    "word_probs_ro = (ro_rows.sum(axis=0).astype(float) + 1.0) / 1001.\n",
    "word_probs_co = (co_rows.sum(axis=0).astype(float) + 1.0) / 1001.\n",
    "\n",
    "word_probs_ro\n",
    "words"
   ]
  },
  {
   "cell_type": "code",
   "execution_count": 6,
   "metadata": {},
   "outputs": [
    {
     "name": "stdout",
     "output_type": "stream",
     "text": [
      "RAP 342: ['niggaz', 'ya', 'fuck', 'shit', 'yo', 'bitch', 'fall', 'our', 'blue']\n",
      "ROCK 342: ['shit', 'eye', 'noth', 'away', 'good']\n",
      "COUNTRY 342: ['gone', 'long', 'well']\n"
     ]
    }
   ],
   "source": [
    "#let's look at the bag of words for three particular songs \n",
    "track_id = 500\n",
    "print(\"RAP 342:\",[words[i] for i,r in enumerate(ra_rows[track_id]) if r==1])\n",
    "print(\"ROCK 342:\",[words[i] for i,r in enumerate(ro_rows[track_id]) if r==1])\n",
    "print(\"COUNTRY 342:\",[words[i] for i,r in enumerate(co_rows[track_id]) if r==1])"
   ]
  },
  {
   "cell_type": "code",
   "execution_count": 812,
   "metadata": {},
   "outputs": [
    {
     "name": "stdout",
     "output_type": "stream",
     "text": [
      "RAP 342: ['niggaz', 'ya', 'fuck', 'shit', 'yo', 'bitch', 'fall', 'our', 'blue']\n",
      "ROCK 342: ['shit', 'eye', 'noth', 'away', 'good']\n",
      "COUNTRY 342: ['gone', 'long', 'well']\n"
     ]
    },
    {
     "data": {
      "text/plain": [
       "[['night',\n",
       "  'eye',\n",
       "  'good',\n",
       "  'ya',\n",
       "  'yall',\n",
       "  'fuck',\n",
       "  'littl',\n",
       "  'shit',\n",
       "  'yo',\n",
       "  'bitch'],\n",
       " ['well',\n",
       "  'light',\n",
       "  'end',\n",
       "  'again',\n",
       "  'night',\n",
       "  'away',\n",
       "  'our',\n",
       "  'fall',\n",
       "  'heart',\n",
       "  'eye'],\n",
       " ['home',\n",
       "  'eye',\n",
       "  'night',\n",
       "  'good',\n",
       "  'away',\n",
       "  'long',\n",
       "  'littl',\n",
       "  'well',\n",
       "  'heart',\n",
       "  'old']]"
      ]
     },
     "execution_count": 812,
     "metadata": {},
     "output_type": "execute_result"
    }
   ],
   "source": [
    "# let's look at the k most probable words for each genre \n",
    "k = 10 \n",
    "[[words[x] for x in np.argpartition(word_probs_ra, -k)[-k:]],\n",
    " [words[x] for x in np.argpartition(word_probs_ro, -k)[-k:]],\n",
    " [words[x] for x in np.argpartition(word_probs_co, -k)[-k:]]]\n",
    "\n",
    "#word_probs_ra\n",
    " "
   ]
  },
  {
   "cell_type": "code",
   "execution_count": 13,
   "metadata": {},
   "outputs": [
    {
     "name": "stdout",
     "output_type": "stream",
     "text": [
      "['a', 'b', 'c']\n",
      "0 a\n",
      "1 b\n",
      "2 c\n"
     ]
    }
   ],
   "source": [
    "funny_list = ['a','b','c']\n",
    "print(funny_list)\n",
    "\n",
    "for (i,w) in enumerate(funny_list): \n",
    "    print(i,w)"
   ]
  },
  {
   "cell_type": "markdown",
   "metadata": {},
   "source": [
    "Now let's generate some random songs represented as bag of words using the calculated word probabilities. \n"
   ]
  },
  {
   "cell_type": "code",
   "execution_count": 8,
   "metadata": {},
   "outputs": [
    {
     "name": "stdout",
     "output_type": "stream",
     "text": [
      "Random rap ['shit', 'yo', 'again', 'our', 'good', 'littl', 'well']\n",
      "Random rock ['ya', 'our', 'away']\n",
      "Random country ['wait', 'our']\n"
     ]
    }
   ],
   "source": [
    "print('Random rap', [w for (i,w) in enumerate(words) if np.greater(word_probs_ra, np.random.rand(30))[i]])\n",
    "print('Random rock', [w for (i,w) in enumerate(words) if np.greater(word_probs_ro, np.random.rand(30))[i]])\n",
    "print('Random country', [w for (i,w) in enumerate(words) if np.greater(word_probs_co, np.random.rand(30))[i]])\n"
   ]
  },
  {
   "cell_type": "markdown",
   "metadata": {},
   "source": [
    "Now let's look at classifying songs using a naive Bayes multinomial classifier. \n",
    "We simply calculate the likelihood for each genre independently by taking the products of the \n",
    "genre dependent word probabilities. The genere with the highest likelihood is selected as the predicted \n",
    "class. \n"
   ]
  },
  {
   "cell_type": "code",
   "execution_count": 15,
   "metadata": {},
   "outputs": [
    {
     "name": "stdout",
     "output_type": "stream",
     "text": [
      "Random track id 843\n",
      "country\n"
     ]
    }
   ],
   "source": [
    "# calcuate likelihood separately for each word \n",
    "# using naive bayes assumption and multiply \n",
    "# typically a sum of log-likelihoods is used \n",
    "# rather than a multiplication. \n",
    "def likelihood(test_song, word_probs_for_genre): \n",
    "    probability_product = 1.0 \n",
    "    for (i,w) in enumerate(test_song): \n",
    "        if (w==1): \n",
    "            probability = word_probs_for_genre[i]\n",
    "        else: \n",
    "            probability = 1.0 - word_probs_for_genre[i]\n",
    "        probability_product *= probability \n",
    "    return probability_product \n",
    "\n",
    "def predict(test_song): \n",
    "    scores = [likelihood(test_song, word_probs_ra), \n",
    "             likelihood(test_song, word_probs_ro),\n",
    "             likelihood(test_song, word_probs_co)]\n",
    "    labels = ['rap', 'rock', 'country']\n",
    "    return labels[np.argmax(scores)]\n",
    "\n",
    "def predict_set(test_set, ground_truth_label): \n",
    "    score = 0 \n",
    "    for r in test_set: \n",
    "        if predict(r) == ground_truth_label: \n",
    "            score += 1\n",
    "    # convert to percentage \n",
    "    return score / 10.0 \n",
    "\n",
    "# predict a random country track \n",
    "track_id = np.random.randint(1000)\n",
    "print(\"Random track id\", track_id)\n",
    "test_song = co_rows[track_id]\n",
    "print(predict(test_song))"
   ]
  },
  {
   "cell_type": "code",
   "execution_count": 853,
   "metadata": {},
   "outputs": [
    {
     "name": "stdout",
     "output_type": "stream",
     "text": [
      "Random track id 28\n",
      "rock\n",
      "Rap accuracy% =  74.9\n",
      "Rock accuracy% =  63.1\n",
      "Country accuracy% =  70.9\n"
     ]
    }
   ],
   "source": [
    "# Let's evaluate how well our classifier does on the training set \n",
    "# A more proper evaluation would utilize cross-validation \n",
    "\n",
    "print(\"Rap accuracy% = \", predict_set(ra_rows, 'rap'))\n",
    "print(\"Rock accuracy% = \", predict_set(ro_rows, 'rock'))\n",
    "print(\"Country accuracy% = \", predict_set(co_rows, 'country'))\n",
    "            "
   ]
  },
  {
   "cell_type": "code",
   "execution_count": 16,
   "metadata": {
    "collapsed": true
   },
   "outputs": [],
   "source": [
    "test_song = co_rows[track_id]\n"
   ]
  },
  {
   "cell_type": "code",
   "execution_count": 17,
   "metadata": {},
   "outputs": [
    {
     "name": "stdout",
     "output_type": "stream",
     "text": [
      "[0 0 0 0 0 0 0 0 0 0 1 0 0 1 1 0 0 0 1 0 1 1 1 0 1 0 1 0 0 0]\n"
     ]
    }
   ],
   "source": [
    "print(test_song)"
   ]
  },
  {
   "cell_type": "code",
   "execution_count": 18,
   "metadata": {
    "collapsed": true
   },
   "outputs": [],
   "source": [
    "scores = [likelihood(test_song, word_probs_ra), \n",
    "             likelihood(test_song, word_probs_ro),\n",
    "             likelihood(test_song, word_probs_co)]"
   ]
  },
  {
   "cell_type": "code",
   "execution_count": 19,
   "metadata": {},
   "outputs": [
    {
     "name": "stdout",
     "output_type": "stream",
     "text": [
      "[4.4908121666597401e-09, 2.8457883260190305e-08, 1.2226159956175496e-07]\n"
     ]
    }
   ],
   "source": [
    "print(scores)\n"
   ]
  },
  {
   "cell_type": "code",
   "execution_count": null,
   "metadata": {
    "collapsed": true
   },
   "outputs": [],
   "source": []
  }
 ],
 "metadata": {
  "kernelspec": {
   "display_name": "Python 3",
   "language": "python",
   "name": "python3"
  },
  "language_info": {
   "codemirror_mode": {
    "name": "ipython",
    "version": 3
   },
   "file_extension": ".py",
   "mimetype": "text/x-python",
   "name": "python",
   "nbconvert_exporter": "python",
   "pygments_lexer": "ipython3",
   "version": "3.6.1"
  }
 },
 "nbformat": 4,
 "nbformat_minor": 2
}
