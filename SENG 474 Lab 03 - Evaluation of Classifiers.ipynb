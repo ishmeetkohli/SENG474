{
 "cells": [
  {
   "cell_type": "code",
   "execution_count": 54,
   "metadata": {},
   "outputs": [
    {
     "name": "stdout",
     "output_type": "stream",
     "text": [
      "The autoreload extension is already loaded. To reload it, use:\n",
      "  %reload_ext autoreload\n"
     ]
    }
   ],
   "source": [
    "%matplotlib inline\n",
    "import csv\n",
    "\n",
    "import numpy as np\n",
    "import matplotlib.pyplot as plt\n",
    "\n",
    "from sklearn.tree import DecisionTreeClassifier\n",
    "from sklearn.svm import SVC\n",
    "from sklearn.naive_bayes import BernoulliNB\n",
    "\n",
    "%load_ext autoreload \n",
    "%autoreload 2"
   ]
  },
  {
   "cell_type": "code",
   "execution_count": 29,
   "metadata": {
    "collapsed": true
   },
   "outputs": [],
   "source": [
    "# data from http://archive.ics.uci.edu/ml/datasets/Anuran+Calls+%28MFCCs%29\n",
    "label_names = ['AdenomeraAndre', 'AdenomeraHylaedactylus', 'Ameeregatrivittata', 'HylaMinuta', 'HypsiboasCinerascens', 'HypsiboasCordobae',\n",
    "               'LeptodactylusFuscus', 'OsteocephalusOophagus', 'Rhinellagranulosa', 'ScinaxRuber']\n",
    "\n",
    "def load_frog_data():\n",
    "    '''Function for loading Frog MFCC data.  See data/Readme.txt for details about the data set'''\n",
    "\n",
    "    # Load Data from CSV File\n",
    "    with open(\"data/Frogs_MFCCs.csv\") as f:\n",
    "        reader = csv.reader(f, delimiter=\",\")\n",
    "\n",
    "        X = []   # array for feature vectors\n",
    "        y = []   # array for ground truth labels\n",
    "        for i, row in enumerate(reader):\n",
    "            # ignore first row since it is just headers\n",
    "            if i ==0:\n",
    "                continue\n",
    "\n",
    "            X.append(row[:-4])                    # append feature vector from CSV row\n",
    "            y.append(label_names.index(row[-2]))  # append ground truth label from CSV row (converting from categorical to int)\n",
    "\n",
    "    return np.array(X).astype(float), np.array(y).astype(int)"
   ]
  },
  {
   "cell_type": "code",
   "execution_count": 30,
   "metadata": {},
   "outputs": [
    {
     "name": "stdout",
     "output_type": "stream",
     "text": [
      "X Shape: (7195, 22) \tType: float64\n",
      "y Shape: (7195,) \tType: int64\n"
     ]
    }
   ],
   "source": [
    "# Load the Data\n",
    "X, y = load_frog_data()\n",
    "print (\"X Shape:\", X.shape, \"\\tType:\", X.dtype)\n",
    "print (\"y Shape:\", y.shape, \"\\tType:\", y.dtype)"
   ]
  },
  {
   "cell_type": "code",
   "execution_count": 94,
   "metadata": {},
   "outputs": [
    {
     "name": "stdout",
     "output_type": "stream",
     "text": [
      "0 : AdenomeraAndre\n",
      "[ 1.0000  0.1529 -0.1056  0.2007  0.3172  0.2608  0.1009 -0.1501 -0.1711\n",
      "  0.1247  0.1887 -0.0756 -0.1564  0.0822  0.1358 -0.0240 -0.1084 -0.0776\n",
      " -0.0096  0.0577  0.1187  0.0140]\n",
      "\n",
      "2 : Ameeregatrivittata\n",
      "[ 1.0000  0.2883  0.0112  0.1914  0.2093  0.2870  0.2245 -0.1522 -0.3491\n",
      " -0.0778  0.1922  0.0963  0.0526  0.0429 -0.0980 -0.1838  0.0230  0.1612\n",
      " -0.0392 -0.1247  0.0201  0.0398]\n",
      "\n",
      "1 : AdenomeraHylaedactylus\n",
      "[ 1.0000  0.2358  0.1993  0.4340  0.0705 -0.0294 -0.1233  0.0748  0.2814\n",
      " -0.0240 -0.2762  0.2228  0.2962 -0.2147 -0.2020  0.2300  0.2485 -0.0045\n",
      " -0.1499 -0.1002  0.1618  0.1564]\n",
      "\n",
      "1 : AdenomeraHylaedactylus\n",
      "[ 1.0000  0.3484  0.1449  0.5866  0.2859  0.1658  0.0348  0.1561  0.2696\n",
      " -0.0333 -0.3005  0.1398  0.3561 -0.0858 -0.2152  0.0690  0.1192  0.0517\n",
      "  0.0286  0.0001  0.0990  0.1359]\n",
      "\n",
      "1 : AdenomeraHylaedactylus\n",
      "[ 1.0000  0.2677  0.2058  0.5103  0.2262  0.0730 -0.0954 -0.0321  0.2290\n",
      "  0.0513 -0.3387 -0.0154  0.3811 -0.0113 -0.3398 -0.0318  0.2273  0.0921\n",
      " -0.0223 -0.1586 -0.0976  0.1879]\n",
      "\n",
      "1 : AdenomeraHylaedactylus\n",
      "[ 1.0000  0.3170  0.2150  0.5850  0.2135  0.0950 -0.0154 -0.0195  0.2989\n",
      "  0.1082 -0.3844 -0.0132  0.4851 -0.0108 -0.4122 -0.0311  0.2226  0.0694\n",
      " -0.0252 -0.1630 -0.1269  0.1571]\n",
      "\n",
      "1 : AdenomeraHylaedactylus\n",
      "[ 1.0000  0.2916  0.2529  0.5687  0.1917  0.0355 -0.1188  0.0804  0.2982\n",
      "  0.0080 -0.2924  0.1291  0.3415 -0.1016 -0.2647  0.0521  0.2244  0.0659\n",
      " -0.1006 -0.2001  0.0243  0.2205]\n",
      "\n",
      "3 : HylaMinuta\n",
      "[ 1.0000  0.0411  0.0206  0.3678  0.3114  0.2405  0.0555 -0.2590 -0.1321\n",
      "  0.3320  0.1436 -0.2956 -0.1155  0.2343  0.1127 -0.1511 -0.1207  0.0688\n",
      "  0.1124  0.1241  0.0081 -0.1394]\n",
      "\n",
      "5 : HypsiboasCordobae\n",
      "[ 1.0000  0.1382  0.3558  0.3074  0.1617  0.2563  0.1282 -0.1670 -0.0405\n",
      "  0.1302  0.0877  0.0590  0.0690 -0.1079 -0.1118  0.0647  0.1130  0.0300\n",
      " -0.0025 -0.0461 -0.0528  0.0628]\n",
      "\n",
      "5 : HypsiboasCordobae\n",
      "[ 1.0000  0.7201  0.5599  0.2995 -0.0358  0.1604  0.0518 -0.1396  0.1372\n",
      "  0.0712 -0.2370 -0.0097  0.1142 -0.0043  0.0023  0.0664  0.1043  0.0863\n",
      "  0.0464 -0.0372 -0.0403  0.0928]\n",
      "\n",
      "8 : Rhinellagranulosa\n",
      "[ 1.0000  0.4116  0.3399  0.2808 -0.0295  0.0454  0.1609  0.0438 -0.0573\n",
      "  0.0422  0.0572 -0.0120  0.0120  0.0417  0.0140 -0.0136  0.0051  0.0075\n",
      "  0.0229  0.0096 -0.0036  0.0095]\n",
      "\n",
      "(array([0, 1, 2, 3, 4, 5, 6, 7, 8, 9]), array([ 672, 3478,  542,  310,  472, 1121,  270,  114,   68,  148]))\n"
     ]
    }
   ],
   "source": [
    "# Print a few rows of the data\n",
    "float_formatter = lambda x: \"%7.4f\" % x\n",
    "np.set_printoptions(formatter={'float_kind':float_formatter})\n",
    "\n",
    "for i in range(0, 7195, 700):\n",
    "    print (y[i], \":\", label_names[y[i]])\n",
    "    print (X[i],end=\"\\n\\n\")\n",
    "    \n",
    "print (np.unique(y, return_counts=True))"
   ]
  },
  {
   "cell_type": "code",
   "execution_count": 56,
   "metadata": {
    "collapsed": true
   },
   "outputs": [],
   "source": [
    "# Import evaluation functions\n",
    "from sklearn.model_selection import train_test_split, cross_val_score\n",
    "from sklearn.metrics import confusion_matrix, precision_recall_fscore_support"
   ]
  },
  {
   "cell_type": "code",
   "execution_count": 57,
   "metadata": {
    "collapsed": true
   },
   "outputs": [],
   "source": [
    "# Initialize a few classifiers for comparison\n",
    "clfs = [DecisionTreeClassifier(), SVC(), BernoulliNB()]"
   ]
  },
  {
   "cell_type": "code",
   "execution_count": 72,
   "metadata": {},
   "outputs": [
    {
     "name": "stdout",
     "output_type": "stream",
     "text": [
      "DecisionTreeClassifier 0.940236275191\n",
      "SVC 0.917998610146\n",
      "BernoulliNB 0.876997915219\n"
     ]
    }
   ],
   "source": [
    "# Train and Score each classifier on a standard single training/test split of the data\n",
    "X_train, X_test, y_train, y_test = train_test_split(X, y, test_size=.2)\n",
    "for clf in clfs:\n",
    "    clf.fit(X_train, y_train)\n",
    "    print(type(clf).__name__, clf.score(X_test, y_test))"
   ]
  },
  {
   "cell_type": "code",
   "execution_count": 77,
   "metadata": {},
   "outputs": [
    {
     "name": "stdout",
     "output_type": "stream",
     "text": [
      "DecisionTreeClassifier [ 0.8205  0.8890  0.9187  0.9283  0.8669] 0.884684257747\n",
      "SVC [ 0.8808  0.9244  0.9187  0.9178  0.8732] 0.902981197731\n",
      "BernoulliNB [ 0.8212  0.8245  0.8888  0.8558  0.8634] 0.850766189894\n"
     ]
    }
   ],
   "source": [
    "# Evaluate using 5-Fold Cross Evaluation\n",
    "for clf in clfs:\n",
    "    score = cross_val_score(clf, X, y, cv=5)\n",
    "    print (type(clf).__name__, score, np.average(score))"
   ]
  },
  {
   "cell_type": "code",
   "execution_count": 103,
   "metadata": {},
   "outputs": [
    {
     "name": "stdout",
     "output_type": "stream",
     "text": [
      "DecisionTreeClassifier\n",
      "[[150   1   5   2   3   0   1   2   0   0]\n",
      " [  0 672   1   4   0   3   0   0   3   0]\n",
      " [  3   0  92   2   0   0   0   0   0   2]\n",
      " [  3   6   2  44   0   0   0   0   0   2]\n",
      " [  0   0   0   0  94   3   2   1   0   0]\n",
      " [  0   2   0   1   1 202   2   2   3   2]\n",
      " [  1   0   0   0   2   2  43   0   1   0]\n",
      " [  1   0   0   0   1   2   1  19   0   0]\n",
      " [  0   1   0   0   0   0   0   0  10   0]\n",
      " [  1   0   1   1   1   0   1   1   1  30]]\n",
      "\n",
      "SVC\n",
      "[[150   0  11   0   1   0   0   2   0   0]\n",
      " [  0 682   0   0   0   1   0   0   0   0]\n",
      " [  0   0  98   1   0   0   0   0   0   0]\n",
      " [ 14  10   8  22   0   3   0   0   0   0]\n",
      " [  2   0   0   0  94   3   0   1   0   0]\n",
      " [  0   2   0   0   2 208   3   0   0   0]\n",
      " [  2   0   0   2   0   4  41   0   0   0]\n",
      " [  0   0   0   0   3  20   0   1   0   0]\n",
      " [  0   0   0   0   1   9   1   0   0   0]\n",
      " [  0   0   4   0   0   8   0   0   0  25]]\n",
      "\n",
      "BernoulliNB\n",
      "[[132   0  23   0   3   0   1   3   2   0]\n",
      " [  0 667   0  12   1   0   0   0   0   3]\n",
      " [  2   0  86   2   0   4   0   2   3   0]\n",
      " [  7   7  12  22   0   0   0   2   0   7]\n",
      " [  0   0   1   0  92   1   2   4   0   0]\n",
      " [  0  10   1   4   3 186   9   1   0   1]\n",
      " [  2   0   0   4   0   2  39   2   0   0]\n",
      " [  4   0   2   1   2   1   4   4   5   1]\n",
      " [  0   0   0   0   1   0   1   0   8   1]\n",
      " [  0   4   0   3   0   0   0   4   0  26]]\n",
      "\n"
     ]
    },
    {
     "data": {
      "image/png": "[encoded data removed]",
      "text/plain": [
       "<matplotlib.figure.Figure at 0x10cfe2a58>"
      ]
     },
     "metadata": {},
     "output_type": "display_data"
    }
   ],
   "source": [
    "# print confusion matrices for each classifier\n",
    "plt.figure(figsize=(10,4))\n",
    "for i, clf in enumerate(clfs):\n",
    "    clf.fit(X_train, y_train)\n",
    "    y_pred = clf.predict(X_test)\n",
    "    \n",
    "    cm = confusion_matrix(y_test, y_pred)\n",
    "        \n",
    "    print (type(clf).__name__)\n",
    "    print (cm)\n",
    "    print()\n",
    "    \n",
    "    plt.subplot(1, len(clfs), i+1)\n",
    "    plt.imshow(cm, cmap=\"Blues\")"
   ]
  },
  {
   "cell_type": "code",
   "execution_count": 101,
   "metadata": {},
   "outputs": [
    {
     "name": "stdout",
     "output_type": "stream",
     "text": [
      "DecisionTreeClassifier\n",
      "[[ 0.89  0.01  0.04  0.02  0.02  0.00  0.01  0.01  0.00  0.00]\n",
      " [ 0.00  0.98  0.00  0.01  0.00  0.00  0.00  0.00  0.00  0.00]\n",
      " [ 0.03  0.00  0.94  0.02  0.00  0.00  0.00  0.00  0.00  0.01]\n",
      " [ 0.07  0.11  0.00  0.79  0.00  0.00  0.00  0.00  0.00  0.04]\n",
      " [ 0.02  0.00  0.00  0.00  0.92  0.03  0.02  0.01  0.00  0.00]\n",
      " [ 0.00  0.00  0.00  0.00  0.00  0.94  0.03  0.00  0.00  0.01]\n",
      " [ 0.02  0.00  0.00  0.00  0.02  0.04  0.88  0.02  0.02  0.00]\n",
      " [ 0.04  0.00  0.00  0.00  0.04  0.17  0.04  0.71  0.00  0.00]\n",
      " [ 0.00  0.00  0.00  0.00  0.00  0.00  0.00  0.00  0.91  0.09]\n",
      " [ 0.00  0.00  0.03  0.03  0.03  0.00  0.03  0.05  0.05  0.78]]\n",
      "\n",
      "SVC\n",
      "[[ 0.91  0.00  0.07  0.00  0.01  0.00  0.00  0.01  0.00  0.00]\n",
      " [ 0.00  1.00  0.00  0.00  0.00  0.00  0.00  0.00  0.00  0.00]\n",
      " [ 0.00  0.00  0.99  0.01  0.00  0.00  0.00  0.00  0.00  0.00]\n",
      " [ 0.25  0.18  0.14  0.39  0.00  0.05  0.00  0.00  0.00  0.00]\n",
      " [ 0.02  0.00  0.00  0.00  0.94  0.03  0.00  0.01  0.00  0.00]\n",
      " [ 0.00  0.01  0.00  0.00  0.01  0.97  0.01  0.00  0.00  0.00]\n",
      " [ 0.04  0.00  0.00  0.04  0.00  0.08  0.84  0.00  0.00  0.00]\n",
      " [ 0.00  0.00  0.00  0.00  0.12  0.83  0.00  0.04  0.00  0.00]\n",
      " [ 0.00  0.00  0.00  0.00  0.09  0.82  0.09  0.00  0.00  0.00]\n",
      " [ 0.00  0.00  0.11  0.00  0.00  0.22  0.00  0.00  0.00  0.68]]\n",
      "\n",
      "BernoulliNB\n",
      "[[ 0.80  0.00  0.14  0.00  0.02  0.00  0.01  0.02  0.01  0.00]\n",
      " [ 0.00  0.98  0.00  0.02  0.00  0.00  0.00  0.00  0.00  0.00]\n",
      " [ 0.02  0.00  0.87  0.02  0.00  0.04  0.00  0.02  0.03  0.00]\n",
      " [ 0.12  0.12  0.21  0.39  0.00  0.00  0.00  0.04  0.00  0.12]\n",
      " [ 0.00  0.00  0.01  0.00  0.92  0.01  0.02  0.04  0.00  0.00]\n",
      " [ 0.00  0.05  0.00  0.02  0.01  0.87  0.04  0.00  0.00  0.00]\n",
      " [ 0.04  0.00  0.00  0.08  0.00  0.04  0.80  0.04  0.00  0.00]\n",
      " [ 0.17  0.00  0.08  0.04  0.08  0.04  0.17  0.17  0.21  0.04]\n",
      " [ 0.00  0.00  0.00  0.00  0.09  0.00  0.09  0.00  0.73  0.09]\n",
      " [ 0.00  0.11  0.00  0.08  0.00  0.00  0.00  0.11  0.00  0.70]]\n",
      "\n"
     ]
    },
    {
     "data": {
      "image/png": "[encoded data removed]",
      "text/plain": [
       "<matplotlib.figure.Figure at 0x10d042630>"
      ]
     },
     "metadata": {},
     "output_type": "display_data"
    }
   ],
   "source": [
    "# visualize confusion matrices\n",
    "float_formatter = lambda x: \"%5.2f\" % x\n",
    "np.set_printoptions(formatter={'float_kind':float_formatter})\n",
    "\n",
    "plt.figure(figsize=(10,4))\n",
    "for i, clf in enumerate(clfs):\n",
    "    clf.fit(X_train, y_train)\n",
    "    y_pred = clf.predict(X_test)\n",
    "    \n",
    "    cm = confusion_matrix(y_test, y_pred)\n",
    "    \n",
    "    cm = cm.astype('float') / cm.sum(axis=1)[:, np.newaxis]\n",
    "    \n",
    "    print (type(clf).__name__)\n",
    "    print (cm)\n",
    "    print()\n",
    "    \n",
    "    plt.subplot(1, len(clfs), i+1)\n",
    "    plt.imshow(cm, cmap=\"Blues\")"
   ]
  },
  {
   "cell_type": "code",
   "execution_count": null,
   "metadata": {
    "collapsed": true
   },
   "outputs": [],
   "source": [
    "# Calculate Precision and Recall"
   ]
  }
 ],
 "metadata": {
  "kernelspec": {
   "display_name": "Python 3",
   "language": "python",
   "name": "python3"
  },
  "language_info": {
   "codemirror_mode": {
    "name": "ipython",
    "version": 3
   },
   "file_extension": ".py",
   "mimetype": "text/x-python",
   "name": "python",
   "nbconvert_exporter": "python",
   "pygments_lexer": "ipython3",
   "version": "3.6.1"
  }
 },
 "nbformat": 4,
 "nbformat_minor": 2
}
