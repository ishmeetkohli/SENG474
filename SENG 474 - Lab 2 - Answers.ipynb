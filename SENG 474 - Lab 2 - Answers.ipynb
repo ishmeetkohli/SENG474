{
 "cells": [
  {
   "cell_type": "markdown",
   "metadata": {},
   "source": [
    "# SENG 474 Lab 2: Network Intrusion Detection with Decision Trees"
   ]
  },
  {
   "cell_type": "markdown",
   "metadata": {},
   "source": [
    "### Import required modules"
   ]
  },
  {
   "cell_type": "code",
   "execution_count": 1,
   "metadata": {
    "scrolled": true
   },
   "outputs": [],
   "source": [
    "%matplotlib inline\n",
    "import numpy as np\n",
    "import matplotlib.pyplot as plt\n",
    "\n",
    "from sklearn.tree import DecisionTreeClassifier\n",
    "from sklearn.externals.six import StringIO\n",
    "import pydotplus as pydot\n",
    "\n",
    "from intrusion_detection import *\n",
    "\n",
    "%load_ext autoreload \n",
    "%autoreload 2"
   ]
  },
  {
   "cell_type": "markdown",
   "metadata": {},
   "source": [
    "### Loading Data\n",
    "Uses the parsing features from intrusion_detection.py (now written for Python 3)\n",
    "\n",
    "* **`X`**: stores the feature vectors\n",
    "* **`y`**: stores the ground truth data"
   ]
  },
  {
   "cell_type": "code",
   "execution_count": 2,
   "metadata": {},
   "outputs": [
    {
     "name": "stdout",
     "output_type": "stream",
     "text": [
      "Loading data...\n",
      "Loaded 494021 rows.\n",
      "Protocols: dict_keys(['tcp', 'udp', 'icmp'])\n",
      "Services: dict_keys(['http', 'domain', 'netbios_ssn', 'urp_i', 'Z39_50', 'smtp', 'gopher', 'private', 'echo', 'printer', 'red_i', 'eco_i', 'sunrpc', 'ftp_data', 'urh_i', 'pm_dump', 'pop_3', 'pop_2', 'systat', 'ftp', 'uucp', 'whois', 'netbios_dgm', 'efs', 'remote_job', 'sql_net', 'daytime', 'ntp_u', 'finger', 'ldap', 'netbios_ns', 'kshell', 'iso_tsap', 'ecr_i', 'nntp', 'shell', 'domain_u', 'uucp_path', 'courier', 'exec', 'tim_i', 'netstat', 'telnet', 'rje', 'hostnames', 'link', 'auth', 'http_443', 'csnet_ns', 'X11', 'IRC', 'tftp_u', 'imap4', 'supdup', 'name', 'nnsp', 'mtp', 'bgp', 'ctf', 'klogin', 'vmnet', 'time', 'discard', 'login', 'other', 'ssh'])\n",
      "Flags: dict_keys(['SF', 'OTH', 'RSTR', 'S3', 'S2', 'S1', 'S0', 'RSTOS0', 'REJ', 'SH', 'RSTO'])\n",
      "Formatting data for decision tree...\n",
      "Formatted 494021 rows.\n",
      "Formatting training data for decision tree...\n",
      "Formatted 494021 rows.\n"
     ]
    }
   ],
   "source": [
    "parser = DataParser()\n",
    "X = np.array(parser.formatted_data)\n",
    "y = np.array(parser.formatted_training_data)"
   ]
  },
  {
   "cell_type": "markdown",
   "metadata": {},
   "source": [
    "## Part 1 - Train and Visualize Decision Tree Classifier with IDS Data"
   ]
  },
  {
   "cell_type": "markdown",
   "metadata": {},
   "source": [
    "### Create a new Decision Tree Classifier and train it"
   ]
  },
  {
   "cell_type": "code",
   "execution_count": 3,
   "metadata": {},
   "outputs": [
    {
     "name": "stdout",
     "output_type": "stream",
     "text": [
      "Training Decision Tree...\n",
      "Trained Successfully\n"
     ]
    }
   ],
   "source": [
    "## Enter Code Here for Training a Decision Tree Classifier\n",
    "clf = DecisionTreeClassifier()\n",
    "\n",
    "print(\"Training Decision Tree...\")\n",
    "clf.fit(X,y)\n",
    "print(\"Trained Successfully\")"
   ]
  },
  {
   "cell_type": "markdown",
   "metadata": {},
   "source": [
    "### Create Graph Visualization of Tree\n",
    "Once you've trained the tree successfully, run the code below and open IDS_Tree_Graph.pdf to view the resulting Decision Tree"
   ]
  },
  {
   "cell_type": "code",
   "execution_count": 4,
   "metadata": {},
   "outputs": [
    {
     "name": "stdout",
     "output_type": "stream",
     "text": [
      "Done. Saved as IDS_Tree_Graph.pdf\n",
      "NOTE: Remember that we had to substitute integers for labels, so this graph may be hard to read.\n"
     ]
    }
   ],
   "source": [
    "dot_data = StringIO()\n",
    "tree.export_graphviz(clf, \n",
    "    out_file=dot_data, \n",
    "    feature_names=list(DataFormatting.Mappings.features.keys())[:-1], \n",
    "    class_names=list(DataFormatting.Mappings.categories.keys()), \n",
    "    filled=True, \n",
    "    rounded=True, \n",
    "    special_characters=True\n",
    "    )\n",
    "\n",
    "graph = pydot.graph_from_dot_data(dot_data.getvalue())\n",
    "graph.write_pdf('IDS_Tree_Graph.pdf')\n",
    "\n",
    "print ('Done. Saved as IDS_Tree_Graph.pdf')\n",
    "print ('NOTE: Remember that we had to substitute integers for labels, so this graph may be hard to read.')"
   ]
  },
  {
   "cell_type": "markdown",
   "metadata": {},
   "source": [
    "## Part 2 - Evaluation of the model"
   ]
  },
  {
   "cell_type": "code",
   "execution_count": 5,
   "metadata": {
    "collapsed": true
   },
   "outputs": [],
   "source": [
    "from sklearn.model_selection import train_test_split, cross_val_score\n",
    "from sklearn.metrics import confusion_matrix, precision_recall_fscore_support"
   ]
  },
  {
   "cell_type": "markdown",
   "metadata": {},
   "source": [
    "### Splitting the Data\n",
    "To evaluate a model the data the classifier is trained with should be seperate from the data we evaluate on"
   ]
  },
  {
   "cell_type": "code",
   "execution_count": 6,
   "metadata": {},
   "outputs": [
    {
     "name": "stdout",
     "output_type": "stream",
     "text": [
      "(296412, 41) (296412,)\n",
      "(197609, 41) (197609,)\n"
     ]
    }
   ],
   "source": [
    "# One method is to split into 1 training dateset and 1 testing dataset\n",
    "X_train, X_test, y_train, y_test = train_test_split(X, y, test_size=.4)\n",
    "\n",
    "print (X_train.shape, y_train.shape)\n",
    "print (X_test.shape, y_test.shape)"
   ]
  },
  {
   "cell_type": "code",
   "execution_count": 7,
   "metadata": {},
   "outputs": [
    {
     "data": {
      "text/plain": [
       "DecisionTreeClassifier(class_weight=None, criterion='gini', max_depth=None,\n",
       "            max_features=None, max_leaf_nodes=None,\n",
       "            min_impurity_decrease=0.0, min_impurity_split=None,\n",
       "            min_samples_leaf=1, min_samples_split=2,\n",
       "            min_weight_fraction_leaf=0.0, presort=False, random_state=None,\n",
       "            splitter='best')"
      ]
     },
     "execution_count": 7,
     "metadata": {},
     "output_type": "execute_result"
    }
   ],
   "source": [
    "# Then train the classifier\n",
    "clf.fit(X_train, y_train)"
   ]
  },
  {
   "cell_type": "code",
   "execution_count": 8,
   "metadata": {},
   "outputs": [
    {
     "name": "stdout",
     "output_type": "stream",
     "text": [
      "0.999483829178\n"
     ]
    }
   ],
   "source": [
    "# Add code to check the accuracy of the model\n",
    "print (clf.score(X_test, y_test))"
   ]
  },
  {
   "cell_type": "markdown",
   "metadata": {},
   "source": [
    "### K-Folds Cross Validation\n",
    "A better way to evaluate"
   ]
  },
  {
   "cell_type": "code",
   "execution_count": 9,
   "metadata": {},
   "outputs": [
    {
     "name": "stderr",
     "output_type": "stream",
     "text": [
      "/Users/fortjay81/anaconda/deeppath/deeperpath/deeperpath2/deeperpath3/deeper/deeper/deeper/miniconda3/envs/seng474/lib/python3.6/site-packages/sklearn/model_selection/_split.py:597: Warning: The least populated class in y has only 2 members, which is too few. The minimum number of members in any class cannot be less than n_splits=5.\n",
      "  % (min_groups, self.n_splits)), Warning)\n"
     ]
    },
    {
     "name": "stdout",
     "output_type": "stream",
     "text": [
      "[ 0.99785451  0.9988159   0.99873488  0.99843117  0.79075864]\n"
     ]
    }
   ],
   "source": [
    "# Add Code for Cross Validation Here\n",
    "print (cross_val_score(clf, X, y, cv=5))"
   ]
  },
  {
   "cell_type": "markdown",
   "metadata": {},
   "source": [
    "### Confusion Matrices\n",
    "Get a better understanding of the errors"
   ]
  },
  {
   "cell_type": "code",
   "execution_count": 10,
   "metadata": {},
   "outputs": [],
   "source": [
    "# Add Code to create a Confusion Matrix with variable name cm \n",
    "clf.fit(X_train, y_train)\n",
    "y_pred = clf.predict(X_test)\n",
    "\n",
    "cm = confusion_matrix(y_test, y_pred)"
   ]
  },
  {
   "cell_type": "code",
   "execution_count": 11,
   "metadata": {
    "scrolled": true
   },
   "outputs": [
    {
     "data": {
      "text/html": [
       "<style>.container { width:100% !important; }</style>"
      ],
      "text/plain": [
       "<IPython.core.display.HTML object>"
      ]
     },
     "metadata": {},
     "output_type": "display_data"
    },
    {
     "name": "stdout",
     "output_type": "stream",
     "text": [
      "38968  0      2      1      1      1      3      2      0      0      1      2      0      0      1      0      3      4      0      0      0      16     0      \n",
      "0      848    0      0      0      0      0      0      0      0      0      0      0      0      0      0      0      0      0      0      0      0      0      \n",
      "1      0      9      2      0      0      0      0      0      0      1      0      0      0      0      0      0      0      0      0      0      1      0      \n",
      "3      0      0      1      0      0      0      0      0      0      0      0      0      0      0      0      0      0      0      0      0      0      0      \n",
      "2      0      0      0      19     0      0      0      0      0      0      0      0      0      0      0      0      0      0      0      0      0      0      \n",
      "2      0      0      0      0      0      0      0      0      0      0      0      0      0      0      0      0      0      0      0      0      0      0      \n",
      "0      0      0      0      0      0      494    0      0      0      0      0      0      0      0      0      0      0      0      0      0      0      0      \n",
      "0      0      0      0      0      0      0      8      0      0      0      0      0      0      0      0      0      0      0      0      0      0      0      \n",
      "3      0      0      0      0      0      0      0      1      0      0      1      0      0      0      0      0      0      0      0      0      0      0      \n",
      "1      0      0      0      0      0      0      0      0      0      0      0      0      0      1      0      0      0      0      0      0      0      0      \n",
      "1      0      0      0      0      0      0      0      0      0      43051  0      0      0      0      2      0      3      0      0      0      0      0      \n",
      "3      0      0      0      0      0      1      0      0      0      0      76     0      0      0      0      0      0      0      0      0      0      0      \n",
      "1      0      0      0      0      0      0      0      0      0      0      0      1      0      0      0      0      0      0      0      0      0      0      \n",
      "0      0      0      0      0      0      0      0      0      0      0      0      0      3      0      0      0      0      0      0      0      0      0      \n",
      "0      0      0      0      0      0      0      0      0      0      0      0      0      0      105    0      0      0      0      0      0      0      0      \n",
      "1      0      0      0      0      0      1      0      0      0      1      0      0      0      0      410    0      0      0      0      0      1      0      \n",
      "5      0      0      0      0      0      0      0      0      0      0      0      0      0      0      0      0      0      0      0      0      0      0      \n",
      "10     0      0      0      0      0      0      0      0      0      0      0      0      0      0      0      0      604    0      0      0      0      0      \n",
      "0      0      0      0      0      0      0      0      0      0      0      0      0      0      0      0      0      0      112129 0      0      0      0      \n",
      "2      0      0      0      0      0      0      0      0      0      0      0      0      0      0      0      0      0      0      0      0      0      0      \n",
      "0      0      0      0      0      0      0      0      0      0      0      0      0      0      0      0      0      0      0      0      371    0      0      \n",
      "15     0      0      0      0      0      0      0      0      0      0      0      0      0      0      0      0      0      0      0      0      397    0      \n",
      "2      0      0      0      0      0      0      0      1      0      0      0      0      0      0      0      0      0      0      0      0      0      9      \n"
     ]
    }
   ],
   "source": [
    "# Now print the new confusion matrix\n",
    "# Added for better print formating\n",
    "from IPython.core.display import display, HTML\n",
    "display(HTML(\"<style>.container { width:100% !important; }</style>\"))\n",
    "\n",
    "for row in cm:\n",
    "    for element in row:\n",
    "        n = \"%i\" % element\n",
    "        offset = 7 - len(n)\n",
    "        n += \" \" * offset\n",
    "        print(n, end=\"\")\n",
    "    print()"
   ]
  },
  {
   "cell_type": "markdown",
   "metadata": {},
   "source": [
    "### Load a smaller dataset for easier viewing"
   ]
  },
  {
   "cell_type": "code",
   "execution_count": 12,
   "metadata": {
    "collapsed": true
   },
   "outputs": [],
   "source": [
    "from sklearn import datasets\n",
    "\n",
    "test_data = datasets.load_wine()\n",
    "Xi = test_data.data\n",
    "yi = test_data.target"
   ]
  },
  {
   "cell_type": "code",
   "execution_count": 14,
   "metadata": {},
   "outputs": [
    {
     "name": "stdout",
     "output_type": "stream",
     "text": [
      "[[32  1  0]\n",
      " [ 2 36  5]\n",
      " [ 1  5 25]]\n"
     ]
    },
    {
     "data": {
      "image/png": "[encoded data removed]",
      "text/plain": [
       "<matplotlib.figure.Figure at 0x138fcd7b8>"
      ]
     },
     "metadata": {},
     "output_type": "display_data"
    }
   ],
   "source": [
    "Xi_train, Xi_test, yi_train, yi_test = train_test_split(Xi, yi, test_size=.6)\n",
    "\n",
    "clfi = DecisionTreeClassifier()\n",
    "clfi.fit(Xi_train, yi_train)\n",
    "\n",
    "yi_pred = clfi.predict(Xi_test)\n",
    "cmi = confusion_matrix(yi_test, yi_pred)\n",
    "\n",
    "print(cmi)\n",
    "\n",
    "fig, ax = plt.subplots()\n",
    "plt.imshow(cmi, cmap=\"Blues\")\n",
    "plt.colorbar()\n",
    "ax.tick_params(labelbottom='off', labelleft='off')\n",
    "plt.show()"
   ]
  },
  {
   "cell_type": "markdown",
   "metadata": {},
   "source": [
    "### Precision and Recall Metrics\n",
    "\n",
    "* precision:  When a label is predicted, how often is it correct?\n",
    "    * precision = tp / (tp + fp)\n",
    "    \n",
    "    \n",
    "* recall: When a sample is actually a given label, how often is is predicted correct?  \n",
    "    * recall =  tp / (tp + fn)"
   ]
  },
  {
   "cell_type": "code",
   "execution_count": 15,
   "metadata": {},
   "outputs": [],
   "source": [
    "# Add code to calculate and print precision and recall for the iris dataset\n",
    "# (note: use Sklearn libraries helper functions...)\n",
    "\n",
    "precision, recall, f1, support = precision_recall_fscore_support(yi_test, yi_pred)"
   ]
  },
  {
   "cell_type": "code",
   "execution_count": 16,
   "metadata": {},
   "outputs": [
    {
     "name": "stdout",
     "output_type": "stream",
     "text": [
      "0.914285714286\n",
      "0.857142857143\n",
      "0.833333333333\n"
     ]
    }
   ],
   "source": [
    "[print(p)for p in precision];"
   ]
  },
  {
   "cell_type": "code",
   "execution_count": 17,
   "metadata": {},
   "outputs": [
    {
     "name": "stdout",
     "output_type": "stream",
     "text": [
      "0.969696969697\n",
      "0.837209302326\n",
      "0.806451612903\n"
     ]
    }
   ],
   "source": [
    "[print(r) for r in recall];"
   ]
  },
  {
   "cell_type": "code",
   "execution_count": 18,
   "metadata": {},
   "outputs": [
    {
     "name": "stdout",
     "output_type": "stream",
     "text": [
      "0.941176470588\n",
      "0.847058823529\n",
      "0.819672131148\n"
     ]
    }
   ],
   "source": [
    "[print(f)for f in f1];"
   ]
  }
 ],
 "metadata": {
  "kernelspec": {
   "display_name": "Python 3",
   "language": "python",
   "name": "python3"
  },
  "language_info": {
   "codemirror_mode": {
    "name": "ipython",
    "version": 3
   },
   "file_extension": ".py",
   "mimetype": "text/x-python",
   "name": "python",
   "nbconvert_exporter": "python",
   "pygments_lexer": "ipython3",
   "version": "3.6.1"
  }
 },
 "nbformat": 4,
 "nbformat_minor": 2
}
